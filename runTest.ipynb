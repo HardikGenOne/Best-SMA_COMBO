{
 "cells": [
  {
   "cell_type": "code",
   "execution_count": null,
   "metadata": {},
   "outputs": [],
   "source": []
  },
  {
   "cell_type": "code",
   "execution_count": 2,
   "metadata": {},
   "outputs": [
    {
     "name": "stderr",
     "output_type": "stream",
     "text": [
      "[I 250312 00:08:08 smartConnect:124] in pool\n"
     ]
    },
    {
     "name": "stdout",
     "output_type": "stream",
     "text": [
      "Successfully Connected 🟢\n"
     ]
    },
    {
     "name": "stderr",
     "output_type": "stream",
     "text": [
      "[I 250312 00:08:08 smartConnect:496] Search successful. Found 1 trading symbols for the given query:\n",
      "    1. exchange: NSE, tradingsymbol: TATAMOTORS-EQ, symboltoken: 3456\n"
     ]
    },
    {
     "name": "stdout",
     "output_type": "stream",
     "text": [
      "Got Resources and Exchange Available 🙌🏻\n"
     ]
    },
    {
     "ename": "KeyboardInterrupt",
     "evalue": "",
     "output_type": "error",
     "traceback": [
      "\u001b[31m---------------------------------------------------------------------------\u001b[39m",
      "\u001b[31mKeyboardInterrupt\u001b[39m                         Traceback (most recent call last)",
      "\u001b[36mCell\u001b[39m\u001b[36m \u001b[39m\u001b[32mIn[2]\u001b[39m\u001b[32m, line 41\u001b[39m\n\u001b[32m     39\u001b[39m     \u001b[38;5;66;03m# Move to the next period\u001b[39;00m\n\u001b[32m     40\u001b[39m     current_date = next_date  \n\u001b[32m---> \u001b[39m\u001b[32m41\u001b[39m     \u001b[43mtime\u001b[49m\u001b[43m.\u001b[49m\u001b[43msleep\u001b[49m\u001b[43m(\u001b[49m\u001b[32;43m3\u001b[39;49m\u001b[43m)\u001b[49m\n\u001b[32m     42\u001b[39m final_data.reset_index(drop=\u001b[38;5;28;01mTrue\u001b[39;00m, inplace=\u001b[38;5;28;01mTrue\u001b[39;00m)\n\u001b[32m     43\u001b[39m final_data\n",
      "\u001b[31mKeyboardInterrupt\u001b[39m: "
     ]
    }
   ],
   "source": [
    "from main.AngleSmartAPI import AngleOne_Smart_API\n",
    "from datetime import datetime\n",
    "from dateutil.relativedelta import relativedelta\n",
    "import pandas as pd\n",
    "import time\n",
    "api_key = \"vhAupRK9\"\n",
    "\n",
    "token  = \"IV7PPFHDE4RAWYS7OOXQIBLKTI\"\n",
    "pwd = \"5689\"\n",
    "username = \"AAAJ289396\"\n",
    "instance = AngleOne_Smart_API(api_key,username,pwd,token)\n",
    "instance.connect()\n",
    "\n",
    "exchange = \"NSE\"\n",
    "symbol = \"TATAMOTORS-EQ\"\n",
    "time_frame = \"ONE_DAY\"\n",
    "start_date = \"2024-03-10\"\n",
    "# end_date  = \"2023-06-01\"\n",
    "# data = instance.get_data(exchange, symbol, time_frame, start_date, end_date)\n",
    "# print(data)\n",
    "final_data = pd.DataFrame()\n",
    "\n",
    "# Start the loop to fetch data in 6-month intervals\n",
    "current_date = datetime.strptime(start_date, \"%Y-%m-%d\")\n",
    "today_date = datetime.today()\n",
    "\n",
    "while current_date < today_date:\n",
    "    next_date = current_date + relativedelta(months=3)\n",
    "  \n",
    "    end_date = min(next_date, today_date).strftime(\"%Y-%m-%d\")\n",
    "\n",
    "    # Fetch data for the current period\n",
    "    data = instance.get_data(exchange, symbol, time_frame, current_date.strftime(\"%Y-%m-%d\"), end_date)\n",
    "    \n",
    "    # Ensure data is a DataFrame and not empty\n",
    "    if isinstance(data, pd.DataFrame) and not data.empty:\n",
    "        final_data = pd.concat([final_data, data], ignore_index=True)\n",
    " \n",
    "    # Move to the next period\n",
    "    current_date = next_date  \n",
    "    time.sleep(3)\n",
    "final_data.reset_index(drop=True, inplace=True)\n",
    "final_data"
   ]
  },
  {
   "cell_type": "code",
   "execution_count": null,
   "metadata": {},
   "outputs": [
    {
     "name": "stdout",
     "output_type": "stream",
     "text": [
      "Short SMA: 16, Long SMA: 66, Profit: 90.1, Trades Taken: 304\n"
     ]
    }
   ],
   "source": [
    "import numpy as np\n",
    "\n",
    "\n",
    "data = final_data\n",
    "# short_sma = range(12,38,2)\n",
    "# long_sma = range(26,89,4)\n",
    "\n",
    "short_sma = range(16,17)\n",
    "long_sma = range(66,67)\n",
    "for sS in short_sma:\n",
    "    start_date = end_date\n",
    "    data[\"SHORT_SMA\"] = data[\"Close\"].rolling(window=sS).mean()\n",
    "    for lS in long_sma:\n",
    "        if sS>=lS:\n",
    "            continue\n",
    "        data[\"LONG_SMA\"] = data[\"Close\"].rolling(window=lS).mean()\n",
    "        data.dropna(inplace = True)\n",
    "\n",
    "        data[\"SIGNAL\"] = np.where(data[\"SHORT_SMA\"]>data[\"LONG_SMA\"],\"BUY\",\"SELL\")\n",
    "        # print(data[130:225].head(50))\n",
    " \n",
    "        isBuy = False\n",
    "        bought_price = 0\n",
    "        sold_price = 0\n",
    "        count_trades = 0\n",
    "        result_profit = []\n",
    "        in_trade = False\n",
    "        for i in range(len(data[\"SIGNAL\"])):\n",
    "            if isBuy == False and data[\"SIGNAL\"].iloc[i] == \"BUY\":\n",
    "                in_trade = True\n",
    "                isBuy = True\n",
    "                bought_price = data[\"Close\"].iloc[i]\n",
    "\n",
    "            elif isBuy == True and data[\"SIGNAL\"].iloc[i] == \"SELL\" and in_trade == True:\n",
    "                isBuy = False\n",
    "                in_trade = False\n",
    "                sold_price = data[\"Close\"].iloc[i]\n",
    "                pnl = ((sold_price-bought_price)/bought_price)*100\n",
    "                result_profit.append(pnl)\n",
    "                count_trades += 1\n",
    "        print(f\"Short SMA: {sS}, Long SMA: {lS}, Profit: {round(sum(result_profit),2)}, Trades Taken: {count_trades}\")\n",
    "\n",
    "\n",
    "        \n",
    "   \n",
    "\n",
    "\n"
   ]
  },
  {
   "cell_type": "code",
   "execution_count": null,
   "metadata": {},
   "outputs": [
    {
     "name": "stderr",
     "output_type": "stream",
     "text": [
      "/var/folders/6c/q1fdmtjj36lfr0zwz07z_r0m0000gn/T/ipykernel_49717/522567586.py:39: FutureWarning: The behavior of DataFrame concatenation with empty or all-NA entries is deprecated. In a future version, this will no longer exclude empty or all-NA columns when determining the result dtypes. To retain the old behavior, exclude the relevant entries before the concat operation.\n",
      "  result_df = pd.concat([\n"
     ]
    },
    {
     "name": "stdout",
     "output_type": "stream",
     "text": [
      "Best Combination:\n",
      "Short SMA              19\n",
      "Long SMA               29\n",
      "Total Profit (%)     8.82\n",
      "Trades Taken            4\n",
      "Win Cofficient      2.205\n",
      "Name: 184, dtype: object\n",
      "<--->\n",
      "Short SMA              19\n",
      "Long SMA               29\n",
      "Total Profit (%)     8.82\n",
      "Trades Taken            4\n",
      "Win Cofficient      2.205\n",
      "Name: 184, dtype: object\n"
     ]
    }
   ],
   "source": [
    "import numpy as np\n",
    "import pandas as pd  # Assuming pandas is used\n",
    "data = final_data\n",
    "short_sma = range(5, 21, 1)\n",
    "long_sma = range(25, 50, 2)\n",
    "\n",
    "result_df = pd.DataFrame(columns=[\"Short SMA\", \"Long SMA\", \"Total Profit (%)\", \"Trades Taken\"])\n",
    "for sS in short_sma:\n",
    "    data[\"SHORT_SMA\"] = data[\"Close\"].rolling(window=sS).mean()\n",
    "    for lS in long_sma:\n",
    "        if sS >= lS:\n",
    "            continue\n",
    "\n",
    "        data[\"LONG_SMA\"] = data[\"Close\"].rolling(window=lS).mean()\n",
    "\n",
    "        # Drop NaN rows only for this SMA combination, ensuring original data remains intact\n",
    "        temp_data = data.dropna().copy()\n",
    "\n",
    "        temp_data[\"SIGNAL\"] = np.where(temp_data[\"SHORT_SMA\"] > temp_data[\"LONG_SMA\"], \"BUY\", \"SELL\")\n",
    "\n",
    "        isBuy = False\n",
    "        bought_price = 0\n",
    "        result_profit = []\n",
    "        count_trades = 0\n",
    "\n",
    "        for i in range(len(temp_data[\"SIGNAL\"])):\n",
    "            if not isBuy and temp_data[\"SIGNAL\"].iloc[i] == \"BUY\":\n",
    "                isBuy = True\n",
    "                bought_price = temp_data[\"Close\"].iloc[i]\n",
    "\n",
    "            elif isBuy and temp_data[\"SIGNAL\"].iloc[i] == \"SELL\":\n",
    "                isBuy = False\n",
    "                sold_price = temp_data[\"Close\"].iloc[i]\n",
    "                pnl = ((sold_price - bought_price) / bought_price) * 100\n",
    "                result_profit.append(pnl)\n",
    "                count_trades += 1\n",
    "\n",
    "        # print(f\"Short SMA: {sS}, Long SMA: {lS}, Profit: {round(sum(result_profit), 2)}, Trades Taken: {count_trades}\")\n",
    "        result_df = pd.concat([\n",
    "            result_df,\n",
    "            pd.DataFrame({\n",
    "                \"Short SMA\": [sS],\n",
    "                \"Long SMA\": [lS],\n",
    "                \"Total Profit (%)\": [round(sum(result_profit),2)],\n",
    "                \"Trades Taken\": [count_trades],\n",
    "                \"Win Cofficient\": [round(sum(result_profit),2)/count_trades]\n",
    "            })\n",
    "        ],ignore_index= True)\n",
    "\n",
    "best_overall_return = result_df.loc[result_df[\"Total Profit (%)\"].idxmax()]\n",
    "best_win_cofficient = result_df.loc[result_df[\"Win Cofficient\"].idxmax()]\n",
    "print(\"Best Combination:\")\n",
    "print(best_overall_return)\n",
    "print(\"<--->\")\n",
    "print(best_win_cofficient)"
   ]
  },
  {
   "cell_type": "code",
   "execution_count": null,
   "metadata": {},
   "outputs": [
    {
     "name": "stdout",
     "output_type": "stream",
     "text": [
      "Top 5 Best Combinations:\n",
      "    Short SMA Long SMA  Total Profit (%) Trades Taken\n",
      "93         12       29            331.05           17\n",
      "106        13       29            330.27           18\n",
      "68         10       31            329.61           15\n",
      "69         10       33            328.93           15\n",
      "81         11       31            326.83           14\n"
     ]
    }
   ],
   "source": [
    "top_5_combinations = result_df.sort_values(by=\"Total Profit (%)\", ascending=False).head(5)\n",
    "\n",
    "print(\"Top 5 Best Combinations:\")\n",
    "print(top_5_combinations)"
   ]
  },
  {
   "cell_type": "code",
   "execution_count": 2,
   "metadata": {},
   "outputs": [
    {
     "name": "stderr",
     "output_type": "stream",
     "text": [
      "[I 250312 00:12:01 smartConnect:124] in pool\n"
     ]
    },
    {
     "name": "stdout",
     "output_type": "stream",
     "text": [
      "Successfully Connected 🟢\n"
     ]
    },
    {
     "name": "stderr",
     "output_type": "stream",
     "text": [
      "[I 250312 00:12:02 smartConnect:496] Search successful. Found 1 trading symbols for the given query:\n",
      "    1. exchange: NSE, tradingsymbol: HSCL-EQ, symboltoken: 14334\n"
     ]
    },
    {
     "name": "stdout",
     "output_type": "stream",
     "text": [
      "Got Resources and Exchange Available 🙌🏻\n"
     ]
    },
    {
     "name": "stderr",
     "output_type": "stream",
     "text": [
      "[I 250312 00:12:04 smartConnect:496] Search successful. Found 1 trading symbols for the given query:\n",
      "    1. exchange: NSE, tradingsymbol: HSCL-EQ, symboltoken: 14334\n"
     ]
    },
    {
     "ename": "KeyboardInterrupt",
     "evalue": "",
     "output_type": "error",
     "traceback": [
      "\u001b[31m---------------------------------------------------------------------------\u001b[39m",
      "\u001b[31mKeyboardInterrupt\u001b[39m                         Traceback (most recent call last)",
      "\u001b[36mCell\u001b[39m\u001b[36m \u001b[39m\u001b[32mIn[2]\u001b[39m\u001b[32m, line 16\u001b[39m\n\u001b[32m     14\u001b[39m instance = AngleOne_Smart_API(api_key,username,pwd,token)\n\u001b[32m     15\u001b[39m instance.connect()\n\u001b[32m---> \u001b[39m\u001b[32m16\u001b[39m data = \u001b[43minstance\u001b[49m\u001b[43m.\u001b[49m\u001b[43mget_FullData\u001b[49m\u001b[43m(\u001b[49m\u001b[43mexchange\u001b[49m\u001b[43m,\u001b[49m\u001b[43msymbol\u001b[49m\u001b[43m,\u001b[49m\u001b[43mtime_frame\u001b[49m\u001b[43m,\u001b[49m\u001b[43mstart_date\u001b[49m\u001b[43m)\u001b[49m\n\u001b[32m     18\u001b[39m short_sma = \u001b[38;5;28mrange\u001b[39m(\u001b[32m4\u001b[39m,\u001b[32m10\u001b[39m,\u001b[32m2\u001b[39m)\n\u001b[32m     19\u001b[39m long_sma = \u001b[38;5;28mrange\u001b[39m(\u001b[32m23\u001b[39m,\u001b[32m51\u001b[39m,\u001b[32m2\u001b[39m)\n",
      "\u001b[36mFile \u001b[39m\u001b[32m~/Documents/TRADING BACKTESTING/Best SMA combo/main/AngleSmartAPI.py:100\u001b[39m, in \u001b[36mAngleOne_Smart_API.get_FullData\u001b[39m\u001b[34m(self, exchange, symbol, interval, start_date)\u001b[39m\n\u001b[32m     98\u001b[39m     \u001b[38;5;66;03m# Move to the next period\u001b[39;00m\n\u001b[32m     99\u001b[39m     current_date = next_date  \n\u001b[32m--> \u001b[39m\u001b[32m100\u001b[39m     \u001b[43mtime\u001b[49m\u001b[43m.\u001b[49m\u001b[43msleep\u001b[49m\u001b[43m(\u001b[49m\u001b[32;43m2\u001b[39;49m\u001b[43m)\u001b[49m\n\u001b[32m    101\u001b[39m final_data.reset_index(drop=\u001b[38;5;28;01mTrue\u001b[39;00m, inplace=\u001b[38;5;28;01mTrue\u001b[39;00m)\n\u001b[32m    102\u001b[39m \u001b[38;5;28;01mreturn\u001b[39;00m final_data\n",
      "\u001b[31mKeyboardInterrupt\u001b[39m: "
     ]
    }
   ],
   "source": [
    "from main.AngleSmartAPI import AngleOne_Smart_API\n",
    "from main.TestSMA_COMB import SMA_COMBO\n",
    "\n",
    "api_key = \"vhAupRK9\"\n",
    "token  = \"IV7PPFHDE4RAWYS7OOXQIBLKTI\"\n",
    "pwd = \"5689\"\n",
    "username = \"AAAJ289396\"\n",
    "\n",
    "exchange = \"NSE\"\n",
    "symbol = \"HSCL-EQ\"\n",
    "time_frame = \"FIFTEEN_MINUTE\"\n",
    "start_date = \"2024-09-01\"\n",
    "\n",
    "instance = AngleOne_Smart_API(api_key,username,pwd,token)\n",
    "instance.connect()\n",
    "data = instance.get_FullData(exchange,symbol,time_frame,start_date)\n",
    "\n",
    "short_sma = range(4,10,2)\n",
    "long_sma = range(23,51,2)\n",
    "SMAinstance = SMA_COMBO(data,short_sma,long_sma)\n",
    "\n",
    "SMAinstance.getBestCombo()\n"
   ]
  },
  {
   "cell_type": "code",
   "execution_count": null,
   "metadata": {},
   "outputs": [],
   "source": []
  }
 ],
 "metadata": {
  "kernelspec": {
   "display_name": "Python 3",
   "language": "python",
   "name": "python3"
  },
  "language_info": {
   "codemirror_mode": {
    "name": "ipython",
    "version": 3
   },
   "file_extension": ".py",
   "mimetype": "text/x-python",
   "name": "python",
   "nbconvert_exporter": "python",
   "pygments_lexer": "ipython3",
   "version": "3.12.5"
  }
 },
 "nbformat": 4,
 "nbformat_minor": 2
}
